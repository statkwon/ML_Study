{
 "cells": [
  {
   "cell_type": "markdown",
   "metadata": {
    "id": "UhKe8ySbpnQ-"
   },
   "source": [
    "# Regression Spline"
   ]
  },
  {
   "cell_type": "markdown",
   "metadata": {
    "id": "Ua3Onn2MprhO"
   },
   "source": [
    "## Load Data"
   ]
  },
  {
   "cell_type": "code",
   "execution_count": 1,
   "metadata": {
    "executionInfo": {
     "elapsed": 1393,
     "status": "ok",
     "timestamp": 1619338073108,
     "user": {
      "displayName": "정권상",
      "photoUrl": "",
      "userId": "16913122910978289294"
     },
     "user_tz": -540
    },
    "id": "qTpVMwoyodZk"
   },
   "outputs": [],
   "source": [
    "import numpy as np\n",
    "from sklearn.datasets import make_regression"
   ]
  },
  {
   "cell_type": "code",
   "execution_count": 2,
   "metadata": {
    "executionInfo": {
     "elapsed": 1389,
     "status": "ok",
     "timestamp": 1619338073109,
     "user": {
      "displayName": "정권상",
      "photoUrl": "",
      "userId": "16913122910978289294"
     },
     "user_tz": -540
    },
    "id": "P1a9bCeItrlX"
   },
   "outputs": [],
   "source": [
    "np.random.seed(0)\n",
    "X = np.linspace(0, 6.28, 500)\n",
    "y = np.sin(X) + np.random.normal(0, 0.3, 500)"
   ]
  },
  {
   "cell_type": "code",
   "execution_count": 3,
   "metadata": {
    "executionInfo": {
     "elapsed": 1388,
     "status": "ok",
     "timestamp": 1619338073111,
     "user": {
      "displayName": "정권상",
      "photoUrl": "",
      "userId": "16913122910978289294"
     },
     "user_tz": -540
    },
    "id": "-FKq5-CNt-Yf"
   },
   "outputs": [],
   "source": [
    "import matplotlib.pyplot as plt"
   ]
  },
  {
   "cell_type": "code",
   "execution_count": 4,
   "metadata": {
    "colab": {
     "base_uri": "https://localhost:8080/",
     "height": 265
    },
    "executionInfo": {
     "elapsed": 1381,
     "status": "ok",
     "timestamp": 1619338073112,
     "user": {
      "displayName": "정권상",
      "photoUrl": "",
      "userId": "16913122910978289294"
     },
     "user_tz": -540
    },
    "id": "u5bjtaTopKY-",
    "outputId": "4fa75984-48a5-492c-a640-99e4342308b4"
   },
   "outputs": [
    {
     "data": {
      "image/png": "[encoded data removed]",
      "text/plain": [
       "<Figure size 432x288 with 1 Axes>"
      ]
     },
     "metadata": {
      "needs_background": "light"
     },
     "output_type": "display_data"
    }
   ],
   "source": [
    "fig, ax = plt.subplots()\n",
    "ax.scatter(X, y)\n",
    "plt.show()"
   ]
  },
  {
   "cell_type": "code",
   "execution_count": 5,
   "metadata": {
    "executionInfo": {
     "elapsed": 1378,
     "status": "ok",
     "timestamp": 1619338073114,
     "user": {
      "displayName": "정권상",
      "photoUrl": "",
      "userId": "16913122910978289294"
     },
     "user_tz": -540
    },
    "id": "lZzRDzoKsQdg"
   },
   "outputs": [],
   "source": [
    "from sklearn.model_selection import train_test_split"
   ]
  },
  {
   "cell_type": "code",
   "execution_count": 6,
   "metadata": {
    "executionInfo": {
     "elapsed": 1376,
     "status": "ok",
     "timestamp": 1619338073115,
     "user": {
      "displayName": "정권상",
      "photoUrl": "",
      "userId": "16913122910978289294"
     },
     "user_tz": -540
    },
    "id": "KGfdFjyHpOde"
   },
   "outputs": [],
   "source": [
    "X_train, X_test, y_train, y_test = train_test_split(X, y, test_size=0.3, random_state=0)"
   ]
  },
  {
   "cell_type": "markdown",
   "metadata": {
    "id": "rY6KwM9Gpwke"
   },
   "source": [
    "## My Regression Spline"
   ]
  },
  {
   "cell_type": "code",
   "execution_count": 7,
   "metadata": {
    "executionInfo": {
     "elapsed": 1374,
     "status": "ok",
     "timestamp": 1619338073116,
     "user": {
      "displayName": "정권상",
      "photoUrl": "",
      "userId": "16913122910978289294"
     },
     "user_tz": -540
    },
    "id": "fGkXwQnTxmHi"
   },
   "outputs": [],
   "source": [
    "class MyRegressionSpline:\n",
    "  def fit(self, X_train, y_train, m, k):\n",
    "    X_train = np.array(X_train)\n",
    "    y_train = np.array(y_train)\n",
    "    self.m = m\n",
    "    self.k = np.array(k)\n",
    "    X_train_new = np.power(X_train, 0)\n",
    "    for i in range(1, m+1):\n",
    "      X_train_new = np.column_stack((X_train_new, np.power(X_train, i)))\n",
    "    for i in range(len(k)):\n",
    "      X_train_new = np.column_stack((X_train_new, np.where(np.power(X_train-k[i], m) < 0, 0, np.power(X_train-k[i], m))))\n",
    "    self.beta = np.linalg.inv(np.transpose(X_train_new).dot(X_train_new)).dot(np.transpose(X_train_new)).dot(y_train)\n",
    "  def predict(self, X_test):\n",
    "    X_test = np.array(X_test)\n",
    "    X_test_new = np.power(X_test, 0)\n",
    "    for i in range(1, self.m+1):\n",
    "      X_test_new = np.column_stack((X_test_new, np.power(X_test, i)))\n",
    "    for i in range(len(self.k)):\n",
    "      X_test_new = np.column_stack((X_test_new, np.where(np.power(X_test-self.k[i], self.m) < 0, 0, np.power(X_test-self.k[i], self.m))))\n",
    "    return X_test_new.dot(self.beta)"
   ]
  },
  {
   "cell_type": "code",
   "execution_count": 8,
   "metadata": {
    "executionInfo": {
     "elapsed": 1372,
     "status": "ok",
     "timestamp": 1619338073117,
     "user": {
      "displayName": "정권상",
      "photoUrl": "",
      "userId": "16913122910978289294"
     },
     "user_tz": -540
    },
    "id": "h0-sb3V05qSC"
   },
   "outputs": [],
   "source": [
    "model = MyRegressionSpline()"
   ]
  },
  {
   "cell_type": "code",
   "execution_count": 9,
   "metadata": {
    "executionInfo": {
     "elapsed": 1369,
     "status": "ok",
     "timestamp": 1619338073118,
     "user": {
      "displayName": "정권상",
      "photoUrl": "",
      "userId": "16913122910978289294"
     },
     "user_tz": -540
    },
    "id": "XjHvL95k5s15"
   },
   "outputs": [],
   "source": [
    "model.fit(X_train, y_train, 3, [1.57, 4.71])"
   ]
  },
  {
   "cell_type": "code",
   "execution_count": 10,
   "metadata": {
    "executionInfo": {
     "elapsed": 1642,
     "status": "ok",
     "timestamp": 1619338073396,
     "user": {
      "displayName": "정권상",
      "photoUrl": "",
      "userId": "16913122910978289294"
     },
     "user_tz": -540
    },
    "id": "ze2bnovS7MW0"
   },
   "outputs": [],
   "source": [
    "y_pred = model.predict(X_test)"
   ]
  },
  {
   "cell_type": "code",
   "execution_count": 11,
   "metadata": {
    "executionInfo": {
     "elapsed": 1637,
     "status": "ok",
     "timestamp": 1619338073397,
     "user": {
      "displayName": "정권상",
      "photoUrl": "",
      "userId": "16913122910978289294"
     },
     "user_tz": -540
    },
    "id": "0VP8yqBQyx6f"
   },
   "outputs": [],
   "source": [
    "from sklearn.metrics import mean_squared_error as mse"
   ]
  },
  {
   "cell_type": "code",
   "execution_count": 12,
   "metadata": {
    "colab": {
     "base_uri": "https://localhost:8080/"
    },
    "executionInfo": {
     "elapsed": 1634,
     "status": "ok",
     "timestamp": 1619338073397,
     "user": {
      "displayName": "정권상",
      "photoUrl": "",
      "userId": "16913122910978289294"
     },
     "user_tz": -540
    },
    "id": "FIbmphvny2MP",
    "outputId": "65bee457-88c1-4707-f888-ba7df89b0acd"
   },
   "outputs": [
    {
     "name": "stdout",
     "output_type": "stream",
     "text": [
      "MSE of My RegressionSpline: 0.08787998647675975\n"
     ]
    }
   ],
   "source": [
    "print('MSE of My RegressionSpline:', mse(y_test, y_pred))"
   ]
  },
  {
   "cell_type": "markdown",
   "metadata": {
    "id": "mlRlQY9rzGuo"
   },
   "source": [
    "## Compare to Scikit-Learn"
   ]
  },
  {
   "cell_type": "code",
   "execution_count": 13,
   "metadata": {
    "executionInfo": {
     "elapsed": 1632,
     "status": "ok",
     "timestamp": 1619338073398,
     "user": {
      "displayName": "정권상",
      "photoUrl": "",
      "userId": "16913122910978289294"
     },
     "user_tz": -540
    },
    "id": "DyGKxD_zzJ0d"
   },
   "outputs": [],
   "source": [
    "from sklearn.linear_model import LinearRegression\n",
    "from sklearn.preprocessing import PolynomialFeatures"
   ]
  },
  {
   "cell_type": "code",
   "execution_count": 14,
   "metadata": {
    "executionInfo": {
     "elapsed": 1629,
     "status": "ok",
     "timestamp": 1619338073399,
     "user": {
      "displayName": "정권상",
      "photoUrl": "",
      "userId": "16913122910978289294"
     },
     "user_tz": -540
    },
    "id": "sc5UqU3Tzuvg"
   },
   "outputs": [],
   "source": [
    "model = LinearRegression()"
   ]
  },
  {
   "cell_type": "code",
   "execution_count": 15,
   "metadata": {
    "executionInfo": {
     "elapsed": 1628,
     "status": "ok",
     "timestamp": 1619338073401,
     "user": {
      "displayName": "정권상",
      "photoUrl": "",
      "userId": "16913122910978289294"
     },
     "user_tz": -540
    },
    "id": "A1fUHlhE2Ksi"
   },
   "outputs": [],
   "source": [
    "X_train = X_train.reshape(-1, 1)"
   ]
  },
  {
   "cell_type": "code",
   "execution_count": 16,
   "metadata": {
    "colab": {
     "base_uri": "https://localhost:8080/"
    },
    "executionInfo": {
     "elapsed": 1626,
     "status": "ok",
     "timestamp": 1619338073402,
     "user": {
      "displayName": "정권상",
      "photoUrl": "",
      "userId": "16913122910978289294"
     },
     "user_tz": -540
    },
    "id": "VBqjXg1x7_f7",
    "outputId": "1063b9c3-85bc-4d1a-e4c5-e65dff4f7c8b"
   },
   "outputs": [
    {
     "data": {
      "text/plain": [
       "LinearRegression()"
      ]
     },
     "execution_count": 16,
     "metadata": {},
     "output_type": "execute_result"
    }
   ],
   "source": [
    "model.fit(PolynomialFeatures(degree=3).fit_transform(X_train), y_train)"
   ]
  },
  {
   "cell_type": "code",
   "execution_count": 17,
   "metadata": {
    "executionInfo": {
     "elapsed": 1623,
     "status": "ok",
     "timestamp": 1619338073402,
     "user": {
      "displayName": "정권상",
      "photoUrl": "",
      "userId": "16913122910978289294"
     },
     "user_tz": -540
    },
    "id": "CVldt2dd2Yzq"
   },
   "outputs": [],
   "source": [
    "X_test = X_test.reshape(-1, 1)"
   ]
  },
  {
   "cell_type": "code",
   "execution_count": 18,
   "metadata": {
    "executionInfo": {
     "elapsed": 1622,
     "status": "ok",
     "timestamp": 1619338073404,
     "user": {
      "displayName": "정권상",
      "photoUrl": "",
      "userId": "16913122910978289294"
     },
     "user_tz": -540
    },
    "id": "HsDLRs9sz1Un"
   },
   "outputs": [],
   "source": [
    "y_pred = model.predict(PolynomialFeatures(degree=3).fit_transform(X_test))"
   ]
  },
  {
   "cell_type": "code",
   "execution_count": 19,
   "metadata": {
    "colab": {
     "base_uri": "https://localhost:8080/"
    },
    "executionInfo": {
     "elapsed": 1620,
     "status": "ok",
     "timestamp": 1619338073405,
     "user": {
      "displayName": "정권상",
      "photoUrl": "",
      "userId": "16913122910978289294"
     },
     "user_tz": -540
    },
    "id": "r5-14AGez3jf",
    "outputId": "09b80742-817d-4768-a234-ed03967076e7"
   },
   "outputs": [
    {
     "name": "stdout",
     "output_type": "stream",
     "text": [
      "MSE of sklearn LinearRegression: 0.09351533435473519\n"
     ]
    }
   ],
   "source": [
    "print('MSE of sklearn PolynomialRegression:', mse(y_test, y_pred))"
   ]
  }
 ],
 "metadata": {
  "colab": {
   "authorship_tag": "ABX9TyOXDc/6pUH2AkiQ2ch70PWu",
   "collapsed_sections": [],
   "name": "MyRegressionSpline.ipynb",
   "provenance": []
  },
  "kernelspec": {
   "display_name": "Python 3",
   "language": "python",
   "name": "python3"
  },
  "language_info": {
   "codemirror_mode": {
    "name": "ipython",
    "version": 3
   },
   "file_extension": ".py",
   "mimetype": "text/x-python",
   "name": "python",
   "nbconvert_exporter": "python",
   "pygments_lexer": "ipython3",
   "version": "3.8.2"
  }
 },
 "nbformat": 4,
 "nbformat_minor": 1
}
