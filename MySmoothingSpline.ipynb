{
 "cells": [
  {
   "cell_type": "markdown",
   "metadata": {},
   "source": [
    "# Smoothing Spline"
   ]
  },
  {
   "cell_type": "markdown",
   "metadata": {},
   "source": [
    "## Load Data"
   ]
  },
  {
   "cell_type": "code",
   "execution_count": 1,
   "metadata": {},
   "outputs": [],
   "source": [
    "import numpy as np\n",
    "from sklearn.datasets import load_boston"
   ]
  },
  {
   "cell_type": "code",
   "execution_count": 2,
   "metadata": {},
   "outputs": [],
   "source": [
    "X = load_boston().data[:, 12]\n",
    "y = load_boston().target"
   ]
  },
  {
   "cell_type": "code",
   "execution_count": 3,
   "metadata": {},
   "outputs": [],
   "source": [
    "import matplotlib.pyplot as plt"
   ]
  },
  {
   "cell_type": "code",
   "execution_count": 4,
   "metadata": {},
   "outputs": [
    {
     "data": {
      "image/png": "[encoded data removed]",
      "text/plain": [
       "<Figure size 432x288 with 1 Axes>"
      ]
     },
     "metadata": {
      "needs_background": "light"
     },
     "output_type": "display_data"
    }
   ],
   "source": [
    "fig, ax = plt.subplots()\n",
    "ax.scatter(X, y)\n",
    "plt.show()"
   ]
  },
  {
   "cell_type": "code",
   "execution_count": 5,
   "metadata": {},
   "outputs": [],
   "source": [
    "from sklearn.model_selection import train_test_split"
   ]
  },
  {
   "cell_type": "code",
   "execution_count": 6,
   "metadata": {},
   "outputs": [],
   "source": [
    "X_train, X_test, y_train, y_test = train_test_split(X, y, test_size=0.3, random_state=0)"
   ]
  },
  {
   "cell_type": "markdown",
   "metadata": {},
   "source": [
    "---"
   ]
  },
  {
   "cell_type": "markdown",
   "metadata": {},
   "source": [
    "## My Smoothing Spline"
   ]
  },
  {
   "cell_type": "code",
   "execution_count": 7,
   "metadata": {},
   "outputs": [],
   "source": [
    "class MySmoothingSpline:\n",
    "    def __init__(self, alpha=1):\n",
    "        self.alpha = alpha\n",
    "        \n",
    "    def fit(self, X_train, y_train):\n",
    "        self.X_train = np.array(X_train)\n",
    "        y_train = np.array(y_train)\n",
    "        X_train_new = np.column_stack((np.ones(len(self.X_train)), self.X_train))\n",
    "        d_Km1 = (np.where(np.power(self.X_train-self.X_train[-2], 3) < 0, 0, np.power(self.X_train-self.X_train[-2], 3))-np.where(np.power(self.X_train-self.X_train[-1], 3) < 0, 0, np.power(self.X_train-self.X_train[-1], 3)))/(self.X_train[-2]-self.X_train[-1])\n",
    "        for i in range(len(self.X_train)-2):\n",
    "            d = (np.where(np.power(self.X_train-self.X_train[i], 3) < 0, 0, np.power(self.X_train-self.X_train[i], 3))-np.where(np.power(self.X_train-self.X_train[-1], 3) < 0, 0, np.power(self.X_train-self.X_train[-1], 3)))/(self.X_train[i]-self.X_train[-1])\n",
    "            X_train_new = np.column_stack((X_train_new, d-d_Km1))\n",
    "        delta = np.zeros((len(self.X_train)-2, len(self.X_train)))\n",
    "        for i in range(len(self.X_train)-2):\n",
    "            delta[i, i] = 1/(self.X_train[i+1]-self.X_train[i])\n",
    "            delta[i, i+1] = -1/(self.X_train[i+1]-self.X_train[i])-1/(self.X_train[i+2]-self.X_train[i+1])\n",
    "            delta[i, i+2] = 1/(self.X_train[i+2]-self.X_train[i+1])\n",
    "        W = np.zeros((len(self.X_train)-2, len(self.X_train)-2))\n",
    "        for i in range(1, len(self.X_train)-2):\n",
    "            W[i-1, i] = W[i, i-1] = (self.X_train[i+1]-self.X_train[i])/6\n",
    "            W[i, i] = (self.X_train[i+2]-self.X_train[i])/3\n",
    "        omega = np.transpose(delta).dot(np.linalg.inv(W)).dot(delta)\n",
    "        self.beta = np.linalg.inv(np.transpose(X_train_new).dot(X_train_new)+self.alpha*omega).dot(np.transpose(X_train_new)).dot(y_train)\n",
    "    \n",
    "    def predict(self, X_test):\n",
    "        X_test = np.array(X_test)\n",
    "        X_test_new = np.column_stack((np.ones(len(X_test)), X_test))\n",
    "        d_Km1 = (np.where(np.power(X_test-self.X_train[-2], 3) < 0, 0, np.power(X_test-self.X_train[-2], 3))-np.where(np.power(X_test-self.X_train[-1], 3) < 0, 0, np.power(X_test-self.X_train[-1], 3)))/(self.X_train[-2]-self.X_train[-1])\n",
    "        for i in range(len(self.X_train)-2):\n",
    "            d = (np.where(np.power(X_test-self.X_train[i], 3) < 0, 0, np.power(X_test-self.X_train[i], 3))-np.where(np.power(X_test-self.X_train[-1], 3) < 0, 0, np.power(X_test-self.X_train[-1], 3)))/(self.X_train[i]-self.X_train[-1])\n",
    "            X_test_new = np.column_stack((X_test_new, d-d_Km1))\n",
    "        return X_test_new.dot(self.beta)"
   ]
  },
  {
   "cell_type": "code",
   "execution_count": 8,
   "metadata": {},
   "outputs": [],
   "source": [
    "model = MySmoothingSpline()"
   ]
  },
  {
   "cell_type": "code",
   "execution_count": 9,
   "metadata": {},
   "outputs": [],
   "source": [
    "model.fit(X_train, y_train)"
   ]
  },
  {
   "cell_type": "code",
   "execution_count": 10,
   "metadata": {},
   "outputs": [],
   "source": [
    "y_pred = model.predict(X_test)"
   ]
  },
  {
   "cell_type": "code",
   "execution_count": 11,
   "metadata": {},
   "outputs": [],
   "source": [
    "from sklearn.metrics import mean_squared_error as mse"
   ]
  },
  {
   "cell_type": "code",
   "execution_count": 12,
   "metadata": {},
   "outputs": [
    {
     "name": "stdout",
     "output_type": "stream",
     "text": [
      "MSE of My SmoothingSpline: 34.03650107824669\n"
     ]
    }
   ],
   "source": [
    "print('MSE of My SmoothingSpline:', mse(y_test, y_pred))"
   ]
  },
  {
   "cell_type": "markdown",
   "metadata": {},
   "source": [
    "---"
   ]
  },
  {
   "cell_type": "markdown",
   "metadata": {},
   "source": [
    "## Compare to Scikit-Learn"
   ]
  },
  {
   "cell_type": "code",
   "execution_count": 13,
   "metadata": {},
   "outputs": [],
   "source": [
    "from sklearn.linear_model import LinearRegression\n",
    "from sklearn.preprocessing import PolynomialFeatures"
   ]
  },
  {
   "cell_type": "code",
   "execution_count": 14,
   "metadata": {},
   "outputs": [],
   "source": [
    "model = LinearRegression()"
   ]
  },
  {
   "cell_type": "code",
   "execution_count": 15,
   "metadata": {},
   "outputs": [],
   "source": [
    "X_train = X_train.reshape(-1, 1)"
   ]
  },
  {
   "cell_type": "code",
   "execution_count": 16,
   "metadata": {},
   "outputs": [
    {
     "data": {
      "text/plain": [
       "LinearRegression()"
      ]
     },
     "execution_count": 16,
     "metadata": {},
     "output_type": "execute_result"
    }
   ],
   "source": [
    "model.fit(PolynomialFeatures(degree=2).fit_transform(X_train), y_train)"
   ]
  },
  {
   "cell_type": "code",
   "execution_count": 17,
   "metadata": {},
   "outputs": [],
   "source": [
    "X_test = X_test.reshape(-1, 1)"
   ]
  },
  {
   "cell_type": "code",
   "execution_count": 18,
   "metadata": {},
   "outputs": [],
   "source": [
    "y_pred = model.predict(PolynomialFeatures(degree=2).fit_transform(X_test))"
   ]
  },
  {
   "cell_type": "code",
   "execution_count": 19,
   "metadata": {},
   "outputs": [
    {
     "name": "stdout",
     "output_type": "stream",
     "text": [
      "MSE of sklearn PolynomialRegression: 33.60239474228597\n"
     ]
    }
   ],
   "source": [
    "print('MSE of sklearn PolynomialRegression:', mse(y_test, y_pred))"
   ]
  }
 ],
 "metadata": {
  "kernelspec": {
   "display_name": "Python 3",
   "language": "python",
   "name": "python3"
  },
  "language_info": {
   "codemirror_mode": {
    "name": "ipython",
    "version": 3
   },
   "file_extension": ".py",
   "mimetype": "text/x-python",
   "name": "python",
   "nbconvert_exporter": "python",
   "pygments_lexer": "ipython3",
   "version": "3.8.2"
  }
 },
 "nbformat": 4,
 "nbformat_minor": 4
}
